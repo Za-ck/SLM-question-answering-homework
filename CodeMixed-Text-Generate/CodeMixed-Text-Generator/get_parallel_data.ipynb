{
 "cells": [
  {
   "cell_type": "code",
   "execution_count": 1,
   "metadata": {},
   "outputs": [
    {
     "name": "stdout",
     "output_type": "stream",
     "text": [
      "Looking in indexes: https://pypi.tuna.tsinghua.edu.cn/simple/\n",
      "Collecting datasets==1.18.1\n",
      "  Downloading https://pypi.tuna.tsinghua.edu.cn/packages/42/03/6ed76e2fab545530de5f9076ff4791caa71939f8ae55c66fcfb287487855/datasets-1.18.1-py3-none-any.whl (311kB)\n",
      "Requirement already satisfied: pandas in c:\\users\\zora\\anaconda3\\lib\\site-packages (from datasets==1.18.1) (0.25.1)\n",
      "Requirement already satisfied: requests>=2.19.0 in c:\\users\\zora\\anaconda3\\lib\\site-packages (from datasets==1.18.1) (2.23.0)\n",
      "Collecting aiohttp (from datasets==1.18.1)\n",
      "  Downloading https://pypi.tuna.tsinghua.edu.cn/packages/6a/db/7dd37ac95945fd259b3b6c9ff1a3944129f181a6a1912dcf473df3f505e2/aiohttp-3.8.3-cp37-cp37m-win_amd64.whl (322kB)\n",
      "Collecting dill (from datasets==1.18.1)\n",
      "  Downloading https://pypi.tuna.tsinghua.edu.cn/packages/be/e3/a84bf2e561beed15813080d693b4b27573262433fced9c1d1fea59e60553/dill-0.3.6-py3-none-any.whl (110kB)\n",
      "Requirement already satisfied: importlib-metadata; python_version < \"3.8\" in c:\\users\\zora\\anaconda3\\lib\\site-packages (from datasets==1.18.1) (0.23)\n",
      "Collecting tqdm>=4.62.1 (from datasets==1.18.1)\n",
      "  Downloading https://pypi.tuna.tsinghua.edu.cn/packages/47/bb/849011636c4da2e44f1253cd927cfb20ada4374d8b3a4e425416e84900cc/tqdm-4.64.1-py2.py3-none-any.whl (78kB)\n",
      "Collecting huggingface-hub<1.0.0,>=0.1.0 (from datasets==1.18.1)\n",
      "  Downloading https://pypi.tuna.tsinghua.edu.cn/packages/5d/b7/33ebbd6b6b362203c19c854935f72381ba36525bc996c63bfce6b9874e09/huggingface_hub-0.11.0-py3-none-any.whl (182kB)\n",
      "Requirement already satisfied: numpy>=1.17 in c:\\users\\zora\\anaconda3\\lib\\site-packages (from datasets==1.18.1) (1.19.3)\n",
      "Collecting pyarrow!=4.0.0,>=3.0.0 (from datasets==1.18.1)\n",
      "  Downloading https://pypi.tuna.tsinghua.edu.cn/packages/7d/75/e799c76223b446b461a76420766ead8a2483e21272d4de9a5b5d260851ff/pyarrow-10.0.1-cp37-cp37m-win_amd64.whl (20.2MB)\n",
      "Collecting xxhash (from datasets==1.18.1)\n",
      "  Downloading https://pypi.tuna.tsinghua.edu.cn/packages/93/90/309117ccc94f56615ed59e8553f0dee196daa37deccfc6c1f6c8c8906ddf/xxhash-3.1.0-cp37-cp37m-win_amd64.whl\n",
      "Collecting fsspec[http]>=2021.05.0 (from datasets==1.18.1)\n",
      "  Downloading https://pypi.tuna.tsinghua.edu.cn/packages/37/57/eb7c3c10b187d3b8565946772ce0229c79e3c623010eda0aeb5032ff56f4/fsspec-2022.11.0-py3-none-any.whl (139kB)\n",
      "Requirement already satisfied: packaging in c:\\users\\zora\\anaconda3\\lib\\site-packages (from datasets==1.18.1) (21.3)\n",
      "Collecting multiprocess (from datasets==1.18.1)\n",
      "  Downloading https://pypi.tuna.tsinghua.edu.cn/packages/f1/00/c1b90843cb80e6a1911f480e92a92b1258efcdd32ed4fe87449703416fc4/multiprocess-0.70.14-py37-none-any.whl (115kB)\n",
      "Requirement already satisfied: python-dateutil>=2.6.1 in c:\\users\\zora\\anaconda3\\lib\\site-packages (from pandas->datasets==1.18.1) (2.8.0)\n",
      "Requirement already satisfied: pytz>=2017.2 in c:\\users\\zora\\anaconda3\\lib\\site-packages (from pandas->datasets==1.18.1) (2019.3)\n",
      "Requirement already satisfied: certifi>=2017.4.17 in c:\\users\\zora\\anaconda3\\lib\\site-packages (from requests>=2.19.0->datasets==1.18.1) (2019.9.11)\n",
      "Requirement already satisfied: urllib3!=1.25.0,!=1.25.1,<1.26,>=1.21.1 in c:\\users\\zora\\anaconda3\\lib\\site-packages (from requests>=2.19.0->datasets==1.18.1) (1.24.2)\n",
      "Requirement already satisfied: idna<3,>=2.5 in c:\\users\\zora\\anaconda3\\lib\\site-packages (from requests>=2.19.0->datasets==1.18.1) (2.8)\n",
      "Requirement already satisfied: chardet<4,>=3.0.2 in c:\\users\\zora\\anaconda3\\lib\\site-packages (from requests>=2.19.0->datasets==1.18.1) (3.0.4)\n",
      "Collecting charset-normalizer<3.0,>=2.0 (from aiohttp->datasets==1.18.1)\n",
      "  Downloading https://pypi.tuna.tsinghua.edu.cn/packages/db/51/a507c856293ab05cdc1db77ff4bc1268ddd39f29e7dc4919aa497f0adbec/charset_normalizer-2.1.1-py3-none-any.whl\n",
      "Requirement already satisfied: attrs>=17.3.0 in c:\\users\\zora\\anaconda3\\lib\\site-packages (from aiohttp->datasets==1.18.1) (19.2.0)\n",
      "Collecting async-timeout<5.0,>=4.0.0a3 (from aiohttp->datasets==1.18.1)\n",
      "  Downloading https://pypi.tuna.tsinghua.edu.cn/packages/d6/c1/8991e7c5385b897b8c020cdaad718c5b087a6626d1d11a23e1ea87e325a7/async_timeout-4.0.2-py3-none-any.whl\n",
      "Collecting yarl<2.0,>=1.0 (from aiohttp->datasets==1.18.1)\n",
      "  Downloading https://pypi.tuna.tsinghua.edu.cn/packages/d1/4a/294168151f8bb9eb2c9ae0192b01a274f1a98056bfe08b80ce96f39bfb04/yarl-1.8.1-cp37-cp37m-win_amd64.whl (56kB)\n",
      "Collecting multidict<7.0,>=4.5 (from aiohttp->datasets==1.18.1)\n",
      "  Downloading https://pypi.tuna.tsinghua.edu.cn/packages/71/20/5388d06fab6600b61ff2cfc0ed87a7a8a09d25be9b269ff48d413e8ddb87/multidict-6.0.2-cp37-cp37m-win_amd64.whl\n",
      "Collecting aiosignal>=1.1.2 (from aiohttp->datasets==1.18.1)\n",
      "  Downloading https://pypi.tuna.tsinghua.edu.cn/packages/76/ac/a7305707cb852b7e16ff80eaf5692309bde30e2b1100a1fcacdc8f731d97/aiosignal-1.3.1-py3-none-any.whl\n",
      "Collecting asynctest==0.13.0; python_version < \"3.8\" (from aiohttp->datasets==1.18.1)\n",
      "  Downloading https://pypi.tuna.tsinghua.edu.cn/packages/e8/b6/8d17e169d577ca7678b11cd0d3ceebb0a6089a7f4a2de4b945fe4b1c86db/asynctest-0.13.0-py3-none-any.whl\n",
      "Collecting typing-extensions>=3.7.4; python_version < \"3.8\" (from aiohttp->datasets==1.18.1)\n",
      "  Downloading https://pypi.tuna.tsinghua.edu.cn/packages/0b/8e/f1a0a5a76cfef77e1eb6004cb49e5f8d72634da638420b9ea492ce8305e8/typing_extensions-4.4.0-py3-none-any.whl\n",
      "Collecting frozenlist>=1.1.1 (from aiohttp->datasets==1.18.1)\n",
      "  Downloading https://pypi.tuna.tsinghua.edu.cn/packages/20/f9/5beca2597a95de184dc695bc6ff53e551e45dd59f7a885e52514b76bf48b/frozenlist-1.3.3-cp37-cp37m-win_amd64.whl\n",
      "Requirement already satisfied: zipp>=0.5 in c:\\users\\zora\\anaconda3\\lib\\site-packages (from importlib-metadata; python_version < \"3.8\"->datasets==1.18.1) (0.6.0)\n",
      "Requirement already satisfied: colorama; platform_system == \"Windows\" in c:\\users\\zora\\anaconda3\\lib\\site-packages (from tqdm>=4.62.1->datasets==1.18.1) (0.4.1)\n",
      "Requirement already satisfied: pyyaml>=5.1 in c:\\users\\zora\\anaconda3\\lib\\site-packages (from huggingface-hub<1.0.0,>=0.1.0->datasets==1.18.1) (5.1.2)\n",
      "Requirement already satisfied: filelock in c:\\users\\zora\\anaconda3\\lib\\site-packages (from huggingface-hub<1.0.0,>=0.1.0->datasets==1.18.1) (3.0.12)\n",
      "Requirement already satisfied: pyparsing!=3.0.5,>=2.0.2 in c:\\users\\zora\\anaconda3\\lib\\site-packages (from packaging->datasets==1.18.1) (2.4.2)\n",
      "Requirement already satisfied: six>=1.5 in c:\\users\\zora\\anaconda3\\lib\\site-packages (from python-dateutil>=2.6.1->pandas->datasets==1.18.1) (1.15.0)\n",
      "Requirement already satisfied: more-itertools in c:\\users\\zora\\anaconda3\\lib\\site-packages (from zipp>=0.5->importlib-metadata; python_version < \"3.8\"->datasets==1.18.1) (7.2.0)\n",
      "Installing collected packages: charset-normalizer, typing-extensions, async-timeout, multidict, yarl, frozenlist, aiosignal, asynctest, aiohttp, dill, tqdm, huggingface-hub, pyarrow, xxhash, fsspec, multiprocess, datasets\n",
      "  Found existing installation: tqdm 4.36.1\n",
      "    Uninstalling tqdm-4.36.1:\n",
      "      Successfully uninstalled tqdm-4.36.1\n",
      "  Found existing installation: fsspec 0.5.2\n",
      "    Uninstalling fsspec-0.5.2:\n",
      "      Successfully uninstalled fsspec-0.5.2\n",
      "Successfully installed aiohttp-3.8.3 aiosignal-1.3.1 async-timeout-4.0.2 asynctest-0.13.0 charset-normalizer-2.1.1 datasets-1.18.1 dill-0.3.6 frozenlist-1.3.3 fsspec-2022.11.0 huggingface-hub-0.11.0 multidict-6.0.2 multiprocess-0.70.14 pyarrow-10.0.1 tqdm-4.64.1 typing-extensions-4.4.0 xxhash-3.1.0 yarl-1.8.1\n",
      "Note: you may need to restart the kernel to use updated packages.\n"
     ]
    },
    {
     "name": "stderr",
     "output_type": "stream",
     "text": [
      "ERROR: tensorflow 2.4.0 requires flatbuffers~=1.12.0, which is not installed.\n",
      "ERROR: tensorflow 2.4.0 requires keras-preprocessing~=1.1.2, which is not installed.\n",
      "ERROR: tensorflow 2.4.0 has requirement absl-py~=0.10, but you'll have absl-py 0.9.0 which is incompatible.\n",
      "ERROR: tensorflow 2.4.0 has requirement grpcio~=1.32.0, but you'll have grpcio 1.27.2 which is incompatible.\n",
      "ERROR: tensorflow 2.4.0 has requirement opt-einsum~=3.3.0, but you'll have opt-einsum 3.1.0 which is incompatible.\n",
      "ERROR: tensorflow 2.4.0 has requirement typing-extensions~=3.7.4, but you'll have typing-extensions 4.4.0 which is incompatible.\n"
     ]
    }
   ],
   "source": [
    "pip install datasets==1.18.1"
   ]
  },
  {
   "cell_type": "code",
   "execution_count": 2,
   "metadata": {},
   "outputs": [],
   "source": [
    "from datasets import load_dataset"
   ]
  },
  {
   "cell_type": "code",
   "execution_count": 3,
   "metadata": {},
   "outputs": [
    {
     "data": {
      "application/vnd.jupyter.widget-view+json": {
       "model_id": "d019275dbd0948d78452766827bfd991",
       "version_major": 2,
       "version_minor": 0
      },
      "text/plain": [
       "Downloading:   0%|          | 0.00/953 [00:00<?, ?B/s]"
      ]
     },
     "metadata": {},
     "output_type": "display_data"
    },
    {
     "name": "stderr",
     "output_type": "stream",
     "text": [
      "Using custom data configuration cfilt--iitb-english-hindi-e9387d78518bc7f8\n"
     ]
    },
    {
     "name": "stdout",
     "output_type": "stream",
     "text": [
      "Downloading and preparing dataset json/default (download: 181.38 MiB, generated: 427.93 MiB, post-processed: Unknown size, total: 609.31 MiB) to C:\\Users\\Zora\\.cache\\huggingface\\datasets\\parquet\\cfilt--iitb-english-hindi-e9387d78518bc7f8\\0.0.0\\1638526fd0e8d960534e2155dc54fdff8dce73851f21f031d2fb9c2cf757c121...\n"
     ]
    },
    {
     "data": {
      "application/vnd.jupyter.widget-view+json": {
       "model_id": "e8fde321ccc94c35a86e71e7299e5a53",
       "version_major": 2,
       "version_minor": 0
      },
      "text/plain": [
       "  0%|          | 0/3 [00:00<?, ?it/s]"
      ]
     },
     "metadata": {},
     "output_type": "display_data"
    },
    {
     "data": {
      "application/vnd.jupyter.widget-view+json": {
       "model_id": "2a400c581a8740c5944fe69a672b325c",
       "version_major": 2,
       "version_minor": 0
      },
      "text/plain": [
       "Downloading:   0%|          | 0.00/190M [00:00<?, ?B/s]"
      ]
     },
     "metadata": {},
     "output_type": "display_data"
    },
    {
     "data": {
      "application/vnd.jupyter.widget-view+json": {
       "model_id": "1e48dc2238324b5f83c4de035d31c80f",
       "version_major": 2,
       "version_minor": 0
      },
      "text/plain": [
       "Downloading:   0%|          | 0.00/85.7k [00:00<?, ?B/s]"
      ]
     },
     "metadata": {},
     "output_type": "display_data"
    },
    {
     "data": {
      "application/vnd.jupyter.widget-view+json": {
       "model_id": "f055d52416ca4219ad1767a01836082f",
       "version_major": 2,
       "version_minor": 0
      },
      "text/plain": [
       "Downloading:   0%|          | 0.00/500k [00:00<?, ?B/s]"
      ]
     },
     "metadata": {},
     "output_type": "display_data"
    },
    {
     "data": {
      "application/vnd.jupyter.widget-view+json": {
       "model_id": "5c313573761e4717a30120062e30c6e2",
       "version_major": 2,
       "version_minor": 0
      },
      "text/plain": [
       "  0%|          | 0/3 [00:00<?, ?it/s]"
      ]
     },
     "metadata": {},
     "output_type": "display_data"
    },
    {
     "name": "stdout",
     "output_type": "stream",
     "text": [
      "Dataset parquet downloaded and prepared to C:\\Users\\Zora\\.cache\\huggingface\\datasets\\parquet\\cfilt--iitb-english-hindi-e9387d78518bc7f8\\0.0.0\\1638526fd0e8d960534e2155dc54fdff8dce73851f21f031d2fb9c2cf757c121. Subsequent calls will reuse this data.\n"
     ]
    },
    {
     "data": {
      "application/vnd.jupyter.widget-view+json": {
       "model_id": "966a378e268e43d691d900237d3adc60",
       "version_major": 2,
       "version_minor": 0
      },
      "text/plain": [
       "  0%|          | 0/3 [00:00<?, ?it/s]"
      ]
     },
     "metadata": {},
     "output_type": "display_data"
    }
   ],
   "source": [
    "dataset = load_dataset(\"cfilt/iitb-english-hindi\")"
   ]
  },
  {
   "cell_type": "code",
   "execution_count": 4,
   "metadata": {},
   "outputs": [
    {
     "data": {
      "text/plain": [
       "DatasetDict({\n",
       "    train: Dataset({\n",
       "        features: ['translation'],\n",
       "        num_rows: 1659083\n",
       "    })\n",
       "    validation: Dataset({\n",
       "        features: ['translation'],\n",
       "        num_rows: 520\n",
       "    })\n",
       "    test: Dataset({\n",
       "        features: ['translation'],\n",
       "        num_rows: 2507\n",
       "    })\n",
       "})"
      ]
     },
     "execution_count": 4,
     "metadata": {},
     "output_type": "execute_result"
    }
   ],
   "source": [
    "dataset"
   ]
  },
  {
   "cell_type": "code",
   "execution_count": 7,
   "metadata": {},
   "outputs": [],
   "source": [
    "source_train_file = open(\"source_train.txt\", \"w+\", encoding='utf8')\n",
    "target_train_file = open(\"target_train.txt\", \"w+\", encoding='utf8')\n",
    "for translation_pair in dataset[\"train\"][\"translation\"]:\n",
    "  source_sentence = translation_pair[\"en\"]\n",
    "  target_sentence = translation_pair[\"hi\"]\n",
    "  source_train_file.write(source_sentence.strip(\"\\n\") + \"\\n\")\n",
    "  target_train_file.write(target_sentence.strip(\"\\n\") + \"\\n\")\n",
    "source_train_file.close()\n",
    "target_train_file.close()\n",
    "\n",
    "source_valid_file = open(\"source_valid.txt\", \"w+\", encoding='utf8')\n",
    "target_valid_file = open(\"target_valid.txt\", \"w+\", encoding='utf8')\n",
    "for translation_pair in dataset[\"validation\"][\"translation\"]:\n",
    "  source_sentence = translation_pair[\"en\"]\n",
    "  target_sentence = translation_pair[\"hi\"]\n",
    "  source_valid_file.write(source_sentence.strip(\"\\n\") + \"\\n\")\n",
    "  target_valid_file.write(target_sentence.strip(\"\\n\") + \"\\n\")\n",
    "source_valid_file.close()\n",
    "target_valid_file.close()\n",
    "\n",
    "source_test_file = open(\"source_test.txt\", \"w+\", encoding='utf8')\n",
    "target_test_file = open(\"target_test.txt\", \"w+\", encoding='utf8')\n",
    "for translation_pair in dataset[\"test\"][\"translation\"]:\n",
    "  source_sentence = translation_pair[\"en\"]\n",
    "  target_sentence = translation_pair[\"hi\"]\n",
    "  source_test_file.write(source_sentence.strip(\"\\n\") + \"\\n\")\n",
    "  target_test_file.write(target_sentence.strip(\"\\n\") + \"\\n\")\n",
    "source_test_file.close()\n",
    "target_test_file.close()"
   ]
  },
  {
   "cell_type": "code",
   "execution_count": 6,
   "metadata": {},
   "outputs": [
    {
     "name": "stderr",
     "output_type": "stream",
     "text": [
      "'wc' 不是内部或外部命令，也不是可运行的程序\n",
      "或批处理文件。\n"
     ]
    }
   ],
   "source": [
    "! wc -l source_train.txt target_train.txt source_valid.txt target_valid.txt source_test.txt target_test.txt"
   ]
  },
  {
   "cell_type": "code",
   "execution_count": null,
   "metadata": {},
   "outputs": [],
   "source": []
  }
 ],
 "metadata": {
  "kernelspec": {
   "display_name": "Python 3",
   "language": "python",
   "name": "python3"
  },
  "language_info": {
   "codemirror_mode": {
    "name": "ipython",
    "version": 3
   },
   "file_extension": ".py",
   "mimetype": "text/x-python",
   "name": "python",
   "nbconvert_exporter": "python",
   "pygments_lexer": "ipython3",
   "version": "3.7.4"
  }
 },
 "nbformat": 4,
 "nbformat_minor": 2
}
