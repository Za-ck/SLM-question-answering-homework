{
 "cells": [
  {
   "cell_type": "code",
   "execution_count": 1,
   "metadata": {},
   "outputs": [
    {
     "name": "stdout",
     "output_type": "stream",
     "text": [
      "Read file End or Error\n"
     ]
    }
   ],
   "source": [
    "import re\n",
    " \n",
    "lineList = []\n",
    "matchPattern = re.compile(r'[TREE]')\n",
    "file = open(r'C:\\Users\\Zora\\Desktop\\out-cm-hi-en.txt','r',encoding='UTF-8')  \n",
    "while 1:\n",
    "    line = file.readline()\n",
    "    if not line:\n",
    "        print(\"Read file End or Error\")\n",
    "        break\n",
    "    elif matchPattern.search(line):\n",
    "        pass\n",
    "    else:\n",
    "        lineList.append(line)\n",
    "file.close()\n",
    "file = open(r'C:\\Users\\Zora\\Desktop\\cm.txt', 'w',encoding='UTF-8')\n",
    "for i in lineList:\n",
    "    file.write(i)\n",
    "file.close()"
   ]
  },
  {
   "cell_type": "code",
   "execution_count": 2,
   "metadata": {},
   "outputs": [],
   "source": [
    "def fenhang(infile,outfile):\n",
    " \n",
    " infopen = open(infile,'r',encoding='utf-8')\n",
    " outopen = open(outfile,'w',encoding='utf-8')\n",
    " lines = infopen.readlines()\n",
    " i = 0\n",
    " for line in lines:\n",
    "  i += 1\n",
    "  if i % 2 == 1:\n",
    "      outopen.write(line)\n",
    "  infopen.close()\n",
    " outopen.close()\n",
    " \n",
    "if __name__==\"__main__\":\n",
    "    infile=r'C:\\Users\\Zora\\Desktop\\out-cm-hi-en.txt'\n",
    "    outfile=r'C:\\Users\\Zora\\Desktop\\cm.txt' #获取CM文本行\n",
    "    fenhang(infile,outfile)"
   ]
  },
  {
   "cell_type": "code",
   "execution_count": null,
   "metadata": {},
   "outputs": [],
   "source": []
  }
 ],
 "metadata": {
  "kernelspec": {
   "display_name": "Python 3",
   "language": "python",
   "name": "python3"
  },
  "language_info": {
   "codemirror_mode": {
    "name": "ipython",
    "version": 3
   },
   "file_extension": ".py",
   "mimetype": "text/x-python",
   "name": "python",
   "nbconvert_exporter": "python",
   "pygments_lexer": "ipython3",
   "version": "3.7.4"
  }
 },
 "nbformat": 4,
 "nbformat_minor": 2
}
